{
 "cells": [
  {
   "cell_type": "markdown",
   "metadata": {},
   "source": [
    "# Learning a LJ potential [![Open in Colab](https://colab.research.google.com/assets/colab-badge.svg)](https://colab.research.google.com/github/Teoroo-CMC/PiNN/blob/master/docs/notebooks/Learn_LJ_potential.ipynb)\n",
    "\n",
    "\n",
    "This notebook showcases the usage of PiNN with a toy problem of learning a Lennard-Jones\n",
    "potential with a hand-generated dataset.  \n",
    "It serves as a basic test, and demonstration of the workflow with PiNN."
   ]
  },
  {
   "cell_type": "code",
   "execution_count": null,
   "metadata": {},
   "outputs": [],
   "source": [
    "# Install PiNN\n",
    "!pip install tensorflow==2.9\n",
    "!pip install git+https://github.com/Teoroo-CMC/PiNN"
   ]
  },
  {
   "cell_type": "code",
   "execution_count": null,
   "metadata": {},
   "outputs": [],
   "source": [
    "%matplotlib inline"
   ]
  },
  {
   "cell_type": "code",
   "execution_count": null,
   "metadata": {},
   "outputs": [],
   "source": [
    "import os, warnings\n",
    "import numpy as np\n",
    "import tensorflow as tf\n",
    "import matplotlib.pyplot as plt\n",
    "from ase import Atoms\n",
    "from ase.calculators.lj import LennardJones\n",
    "os.environ['CUDA_VISIBLE_DEVICES'] = ''\n",
    "index_warning = 'Converting sparse IndexedSlices'\n",
    "warnings.filterwarnings('ignore', index_warning)"
   ]
  },
  {
   "cell_type": "markdown",
   "metadata": {},
   "source": [
    "## Reference data"
   ]
  },
  {
   "cell_type": "code",
   "execution_count": null,
   "metadata": {},
   "outputs": [],
   "source": [
    "# Helper function: get the position given PES dimension(s)\n",
    "def three_body_sample(atoms, a, r):\n",
    "    x = a * np.pi / 180\n",
    "    pos = [[0, 0, 0],\n",
    "           [0, 2, 0],\n",
    "           [0, r*np.cos(x), r*np.sin(x)]]\n",
    "    atoms.set_positions(pos)\n",
    "    return atoms"
   ]
  },
  {
   "cell_type": "code",
   "execution_count": null,
   "metadata": {},
   "outputs": [],
   "source": [
    "atoms = Atoms('H3', calculator=LennardJones())\n",
    "\n",
    "na, nr = 50, 50\n",
    "arange = np.linspace(30,180,na)\n",
    "rrange = np.linspace(1,3,nr)\n",
    "\n",
    "# Truth\n",
    "agrid, rgrid = np.meshgrid(arange, rrange)\n",
    "egrid = np.zeros([na, nr])\n",
    "for i in range(na):\n",
    "    for j in range(nr):\n",
    "        atoms = three_body_sample(atoms, arange[i], rrange[j])\n",
    "        egrid[i,j] = atoms.get_potential_energy()\n",
    "        \n",
    "# Samples\n",
    "nsample = 100\n",
    "asample, rsample = [], []\n",
    "distsample = []\n",
    "data = {'e_data':[], 'f_data':[], 'elems':[], 'coord':[]}\n",
    "for i in range(nsample):\n",
    "    a, r = np.random.choice(arange), np.random.choice(rrange)\n",
    "    atoms = three_body_sample(atoms, a, r)\n",
    "    dist = atoms.get_all_distances()\n",
    "    dist = dist[np.nonzero(dist)]\n",
    "    data['e_data'].append(atoms.get_potential_energy())\n",
    "    data['f_data'].append(atoms.get_forces())\n",
    "    data['coord'].append(atoms.get_positions())\n",
    "    data['elems'].append(atoms.numbers)\n",
    "    asample.append(a)\n",
    "    rsample.append(r)\n",
    "    distsample.append(dist)"
   ]
  },
  {
   "cell_type": "code",
   "execution_count": null,
   "metadata": {},
   "outputs": [],
   "source": [
    "plt.pcolormesh(agrid, rgrid, egrid, shading='auto')\n",
    "plt.plot(asample, rsample, 'rx')\n",
    "plt.colorbar()"
   ]
  },
  {
   "cell_type": "markdown",
   "metadata": {},
   "source": [
    "## Dataset from numpy arrays"
   ]
  },
  {
   "cell_type": "code",
   "execution_count": null,
   "metadata": {},
   "outputs": [],
   "source": [
    "from pinn.io import sparse_batch, load_numpy\n",
    "data = {k:np.array(v) for k,v in data.items()}\n",
    "dataset = lambda: load_numpy(data, splits={'train':8, 'test':2})\n",
    "\n",
    "train = lambda: dataset()['train'].shuffle(100).repeat().apply(sparse_batch(100))\n",
    "test = lambda: dataset()['test'].repeat().apply(sparse_batch(100))"
   ]
  },
  {
   "cell_type": "markdown",
   "metadata": {},
   "source": [
    "## Training"
   ]
  },
  {
   "cell_type": "markdown",
   "metadata": {},
   "source": [
    "### Model specification"
   ]
  },
  {
   "cell_type": "code",
   "execution_count": null,
   "metadata": {},
   "outputs": [],
   "source": [
    "import pinn\n",
    "\n",
    "params={\n",
    "    'model_dir': '/tmp/PiNet',\n",
    "    'network': {\n",
    "        'name': 'PiNet',\n",
    "        'params': {\n",
    "            'ii_nodes':[8,8],\n",
    "            'pi_nodes':[8,8],\n",
    "            'pp_nodes':[8,8],\n",
    "            'out_nodes':[8,8],\n",
    "            'depth': 4,\n",
    "            'rc': 3.0,\n",
    "            'atom_types':[1]}},\n",
    "    'model':{\n",
    "        'name': 'potential_model',\n",
    "        'params': {\n",
    "            'e_dress': {1:-0.3},  # element-specific energy dress\n",
    "            'e_scale': 2, # energy scale for prediction\n",
    "            'e_unit': 1.0,  # output unit of energy dur\n",
    "            'log_e_per_atom': True, # log e_per_atom and its distribution    \n",
    "            'use_force': True}}}      # include force in Loss function\n",
    "model = pinn.get_model(params)"
   ]
  },
  {
   "cell_type": "code",
   "execution_count": null,
   "metadata": {},
   "outputs": [],
   "source": [
    "%rm -rf /tmp/PiNet\n",
    "train_spec = tf.estimator.TrainSpec(input_fn=train, max_steps=5e3)\n",
    "eval_spec = tf.estimator.EvalSpec(input_fn=test, steps=10)\n",
    "tf.estimator.train_and_evaluate(model, train_spec, eval_spec)"
   ]
  },
  {
   "cell_type": "markdown",
   "metadata": {},
   "source": [
    "## Validate the results\n",
    "### PES analysis"
   ]
  },
  {
   "cell_type": "code",
   "execution_count": null,
   "metadata": {},
   "outputs": [],
   "source": [
    "atoms = Atoms('H3', calculator=pinn.get_calc(model))\n",
    "epred = np.zeros([na, nr])\n",
    "for i in range(na):\n",
    "    for j in range(nr):\n",
    "        a, r = arange[i], rrange[j]\n",
    "        atoms = three_body_sample(atoms, a, r)\n",
    "        epred[i,j] = atoms.get_potential_energy()"
   ]
  },
  {
   "cell_type": "code",
   "execution_count": null,
   "metadata": {},
   "outputs": [],
   "source": [
    "plt.pcolormesh(agrid, rgrid, epred, shading='auto')\n",
    "plt.colorbar()\n",
    "plt.title('NN predicted PES')\n",
    "plt.figure()\n",
    "plt.pcolormesh(agrid, rgrid, np.abs(egrid-epred), shading='auto')\n",
    "plt.plot(asample, rsample, 'rx')\n",
    "plt.title('NN Prediction error and sampled points')\n",
    "plt.colorbar()"
   ]
  },
  {
   "cell_type": "markdown",
   "metadata": {},
   "source": [
    "### Pairwise potential analysis"
   ]
  },
  {
   "cell_type": "code",
   "execution_count": null,
   "metadata": {},
   "outputs": [],
   "source": [
    "atoms1 = Atoms('H2', calculator=pinn.get_calc(model))\n",
    "atoms2 = Atoms('H2', calculator=LennardJones())\n",
    "\n",
    "nr2 = 100\n",
    "rrange2 = np.linspace(1,1.9,nr2)\n",
    "epred = np.zeros(nr2)\n",
    "etrue = np.zeros(nr2)\n",
    "\n",
    "for i in range(nr2):\n",
    "    pos = [[0, 0, 0],\n",
    "           [rrange2[i], 0, 0]]\n",
    "    atoms1.set_positions(pos)\n",
    "    atoms2.set_positions(pos)\n",
    "    epred[i] = atoms1.get_potential_energy()\n",
    "    etrue[i] = atoms2.get_potential_energy()"
   ]
  },
  {
   "cell_type": "code",
   "execution_count": null,
   "metadata": {},
   "outputs": [],
   "source": [
    "f, (ax1, ax2) = plt.subplots(2,1, gridspec_kw = {'height_ratios':[3, 1]})\n",
    "ax1.plot(rrange2, epred)\n",
    "ax1.plot(rrange2, etrue,'--')\n",
    "ax1.legend(['Prediction', 'Truth'], loc=4)\n",
    "_=ax2.hist(np.concatenate(distsample,0), 20, range=(1,1.9))"
   ]
  },
  {
   "cell_type": "markdown",
   "metadata": {},
   "source": [
    "## Molecular dynamics with ASE"
   ]
  },
  {
   "cell_type": "code",
   "execution_count": null,
   "metadata": {},
   "outputs": [],
   "source": [
    "from ase import units\n",
    "from ase.io import Trajectory\n",
    "from ase.md.nvtberendsen import NVTBerendsen\n",
    "from ase.md.velocitydistribution import MaxwellBoltzmannDistribution"
   ]
  },
  {
   "cell_type": "code",
   "execution_count": null,
   "metadata": {},
   "outputs": [],
   "source": [
    "atoms = Atoms('H', cell=[2, 2, 2], pbc=True)\n",
    "atoms = atoms.repeat([5,5,5])\n",
    "atoms.rattle()\n",
    "atoms.set_calculator(pinn.get_calc(model))\n",
    "MaxwellBoltzmannDistribution(atoms, 300*units.kB)\n",
    "dyn = NVTBerendsen(atoms, 0.5 * units.fs, 300, taut=0.5*100*units.fs)\n",
    "dyn.attach(Trajectory('ase_nvt.traj', 'w', atoms).write, interval=10)\n",
    "dyn.run(5000)"
   ]
  }
 ],
 "metadata": {
  "kernelspec": {
   "display_name": "pinn-tf2",
   "language": "python",
   "name": "pinn-tf2"
  },
  "language_info": {
   "codemirror_mode": {
    "name": "ipython",
    "version": 3
   },
   "file_extension": ".py",
   "mimetype": "text/x-python",
   "name": "python",
   "nbconvert_exporter": "python",
   "pygments_lexer": "ipython3",
   "version": "3.9.5"
  }
 },
 "nbformat": 4,
 "nbformat_minor": 4
}
