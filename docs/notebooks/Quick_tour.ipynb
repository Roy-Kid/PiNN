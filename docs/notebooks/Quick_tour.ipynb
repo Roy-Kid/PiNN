{
 "cells": [
  {
   "cell_type": "markdown",
   "metadata": {},
   "source": [
    "# Quick tour with QM9 [![Open In Colab](https://colab.research.google.com/assets/colab-badge.svg)](https://colab.research.google.com/github/Teoroo-CMC/PiNN/blob/master/docs/notebooks/Quick_tour.ipynb)\n",
    "\n",
    "This notebook showcases a simple example of training a neural network potential on the QM9 dataset with PiNN."
   ]
  },
  {
   "cell_type": "code",
   "execution_count": null,
   "metadata": {},
   "outputs": [],
   "source": [
    "# Install PiNN & download QM9 dataset\n",
    "!pip install tensorflow==2.9\n",
    "!pip install git+https://github.com/Teoroo-CMC/PiNN\n",
    "!mkdir -p /tmp/dsgdb9nsd && curl -sSL https://ndownloader.figshare.com/files/3195389 | tar xj -C /tmp/dsgdb9nsd"
   ]
  },
  {
   "cell_type": "code",
   "execution_count": null,
   "metadata": {},
   "outputs": [],
   "source": [
    "import os, warnings\n",
    "import tensorflow as tf\n",
    "from glob import glob\n",
    "from ase.collections import g2\n",
    "from pinn.io import load_qm9, sparse_batch\n",
    "from pinn import get_model, get_calc\n",
    "# CPU is used for documentation generation, feel free to use your GPU!\n",
    "os.environ['CUDA_VISIBLE_DEVICES'] = '' \n",
    "# We heavily use indexed slices to do sparse summations,\n",
    "# which causes tensorflow to complain, \n",
    "# we believe it's safe to ignore this warning.\n",
    "index_warning = 'Converting sparse IndexedSlices'\n",
    "warnings.filterwarnings('ignore', index_warning)"
   ]
  },
  {
   "cell_type": "markdown",
   "metadata": {},
   "source": [
    "## Getting the dataset\n",
    "\n",
    "PiNN adapts TensorFlow's dataset API to handle different datasets.\n",
    "\n",
    "For this and the following notebooks the QM9 dataset (https://doi.org/10.6084/m9.figshare.978904) is used.  \n",
    "To follow the notebooks, download the dataset and change the directory accordingly.\n",
    "\n",
    "The dataset will be automatically split into subsets according to the split_ratio.  \n",
    "Note that to use the dataset with the estimator, the datasets should be a function, instead of a dataset object."
   ]
  },
  {
   "cell_type": "code",
   "execution_count": null,
   "metadata": {},
   "outputs": [],
   "source": [
    "filelist = glob('/tmp/dsgdb9nsd/*.xyz')\n",
    "dataset = lambda: load_qm9(filelist, splits={'train':8, 'test':2})\n",
    "train = lambda: dataset()['train'].repeat().shuffle(1000).apply(sparse_batch(100))\n",
    "test = lambda: dataset()['test'].repeat().apply(sparse_batch(100))"
   ]
  },
  {
   "cell_type": "markdown",
   "metadata": {},
   "source": [
    "## Defining the model\n",
    "In PiNN, models are defined at two levels: models and networks. \n",
    "\n",
    "- A model (model_fn) defines the target, loss and training detail.\n",
    "- A network defines the structure of the neural network.\n",
    "\n",
    "In this example, we will use the potential model, and the PiNet network.\n",
    "The configuration of a model is stored in a nested dictionary as shown below.\n",
    "Available options of the network and model can be found in the documentation."
   ]
  },
  {
   "cell_type": "code",
   "execution_count": null,
   "metadata": {},
   "outputs": [],
   "source": [
    "!rm -rf /tmp/PiNet_QM9\n",
    "params = {'model_dir': '/tmp/PiNet_QM9',\n",
    "          'network': {\n",
    "              'name': 'PiNet',\n",
    "              'params': {\n",
    "                  'depth': 4,\n",
    "                  'rc':4.0,\n",
    "                  'atom_types':[1,6,7,8,9]\n",
    "              },\n",
    "          },\n",
    "          'model': {\n",
    "              'name': 'potential_model',\n",
    "              'params': {\n",
    "                  'learning_rate': 1e-3\n",
    "              }\n",
    "          }\n",
    "}\n",
    "model = get_model(params)"
   ]
  },
  {
   "cell_type": "markdown",
   "metadata": {},
   "source": [
    "## Configuring the training process\n",
    "The defined model is indeed a [tf.Estimator](https://www.tensorflow.org/api_docs/python/tf/estimator/Estimator) object, thus, the training can be easily controlled"
   ]
  },
  {
   "cell_type": "code",
   "execution_count": null,
   "metadata": {},
   "outputs": [],
   "source": [
    "train_spec = tf.estimator.TrainSpec(input_fn=train, max_steps=1000)\n",
    "eval_spec = tf.estimator.EvalSpec(input_fn=test, steps=100)"
   ]
  },
  {
   "cell_type": "markdown",
   "metadata": {},
   "source": [
    "## Train and evaluate"
   ]
  },
  {
   "cell_type": "code",
   "execution_count": null,
   "metadata": {},
   "outputs": [],
   "source": [
    "tf.estimator.train_and_evaluate(model, train_spec, eval_spec)"
   ]
  },
  {
   "cell_type": "markdown",
   "metadata": {},
   "source": [
    "## Using the model\n",
    "\n",
    "The trained model can be used as an ASE calculator."
   ]
  },
  {
   "cell_type": "code",
   "execution_count": null,
   "metadata": {},
   "outputs": [],
   "source": [
    "from ase.collections import g2\n",
    "from pinn import get_calc\n",
    "params = {'model_dir': '/tmp/PiNet_QM92',\n",
    "          'network': {\n",
    "              'name': 'PiNet',\n",
    "              'params': {\n",
    "                  'depth': 4,\n",
    "                  'rc':4.0,\n",
    "                  'atom_types':[1,6,7,8,9]\n",
    "              },\n",
    "          },\n",
    "          'model': {\n",
    "              'name': 'potential_model',\n",
    "              'params': {\n",
    "                  'learning_rate': 1e-3\n",
    "              }\n",
    "          }\n",
    "}\n",
    "\n",
    "calc = get_calc(params)\n",
    "calc.properties = ['energy']\n",
    "atoms = g2['C2H4']\n",
    "atoms.set_calculator(calc)\n",
    "atoms.get_forces(), atoms.get_potential_energy()"
   ]
  },
  {
   "cell_type": "markdown",
   "metadata": {},
   "source": [
    "## Conclusion\n",
    "\n",
    "You have trained your first PiNN model, though the accuracy is not so satisfying\n",
    "(RMSE=21 Hartree!). Also, the training speed is slow as it's limited by the IO and \n",
    "pre-processing of data.  \n",
    "\n",
    "We will show in following notebooks that:\n",
    "\n",
    "- Proper scaling of the energy will improve the accuracy of the model.\n",
    "- The training speed can be enhanced by caching and pre-processing the data."
   ]
  }
 ],
 "metadata": {
  "kernelspec": {
   "display_name": "pinn-tf2",
   "language": "python",
   "name": "pinn-tf2"
  },
  "language_info": {
   "codemirror_mode": {
    "name": "ipython",
    "version": 3
   },
   "file_extension": ".py",
   "mimetype": "text/x-python",
   "name": "python",
   "nbconvert_exporter": "python",
   "pygments_lexer": "ipython3",
   "version": "3.9.5"
  }
 },
 "nbformat": 4,
 "nbformat_minor": 4
}
